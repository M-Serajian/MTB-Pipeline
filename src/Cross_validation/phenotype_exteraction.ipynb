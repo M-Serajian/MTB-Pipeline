{
  "cells": [
    {
      "cell_type": "markdown",
      "metadata": {
        "id": "Utw_8LDR5w0A"
      },
      "source": [
        "### This nothebook is dedicated to extract phenotypes related the antibiotic susceptiblity testing (AST) done by GWAS\n",
        "\n",
        "#### The link to the paper can be found in README.md\n",
        "#### The link to the data used in this notebook can be found in README.md"
      ]
    },
    {
      "cell_type": "code",
      "execution_count": null,
      "metadata": {
        "id": "cJbJVn2j5w9a"
      },
      "outputs": [],
      "source": [
        "#!/usr/bin/env python\n",
        "import pandas as pd\n",
        "import copy\n",
        "from sklearn.impute import SimpleImputer #Added in case of simple mode imputation for ambiguous phenotypes yet was removed\n",
        "import numpy as np\n",
        "from tabulate import tabulate"
      ]
    },
    {
      "cell_type": "markdown",
      "metadata": {
        "id": "WjWdJ-q66lCq"
      },
      "source": [
        "#### Defining logical function in case of having Nan"
      ]
    },
    {
      "cell_type": "code",
      "execution_count": null,
      "metadata": {
        "id": "KeCO4Y6l5jdZ"
      },
      "outputs": [],
      "source": [
        "def logical_or_with_nan(a, b):\n",
        "\n",
        "  result=np.logical_or(a,b) * 1\n",
        "\n",
        "  if(np.isnan(a) and np.isnan(np.nan)):\n",
        "    result=np.nan\n",
        "\n",
        "  if ((np.isnan(a) and b==True) or (np.isnan(b) and a==True)):\n",
        "    result=1\n",
        "\n",
        "  if ((np.isnan(a) and b==False) or (np.isnan(b) and a==False)):\n",
        "    result=np.nan\n",
        "\n",
        "  return (result)\n"
      ]
    },
    {
      "cell_type": "markdown",
      "metadata": {
        "id": "PwyZTar45mFO"
      },
      "source": []
    },
    {
      "cell_type": "code",
      "execution_count": null,
      "metadata": {
        "id": "ClhNp90l5mXD"
      },
      "outputs": [],
      "source": [
        "def main():\n",
        "\n",
        "    # reading csv data\n",
        "    df1 = pd.read_excel('ERR_files.xlsx')# this is the list of the data downloaded from ENA\n",
        "\n",
        "    # This is the .Json file from GWAS paper.\n",
        "    # The link is mentioned in README.md\n",
        "    df2 = pd.read_excel('Json.xlsx')\n",
        "\n",
        "    # Merging the 2 dataframes based on the RUN numbers\n",
        "    inner_join = pd.merge(df1, df2, on ='ERR', how ='inner')\n",
        "\n",
        "\n",
        "    # This is the CSV file of the phenotypes given by GWAS paper\n",
        "    df3 = pd.read_excel('phenotypes.xlsx')\n",
        "\n",
        "    #Merging again according to the Sample numbers\n",
        "    Data = pd.merge(inner_join, df3, on ='ERS', how ='inner')\n",
        "\n",
        "    # Considering Suciptible as 0 and Intermediate and Resistance as 1\n",
        "    # Intermediate is same as Resistant logically, since there must be some sort of\n",
        "    # mutation creating that level of imtermediate resistance\n",
        "\n",
        "    mapping = {'S': int(0), 'I': int(1), 'R': int(1),'NA': np.nan}\n",
        "\n",
        "    phenotypes=[\"AMI_BINARY_PHENOTYPE\",\"BDQ_BINARY_PHENOTYPE\",\"CFZ_BINARY_PHENOTYPE\",\n",
        "            \"DLM_BINARY_PHENOTYPE\",\"EMB_BINARY_PHENOTYPE\",\"ETH_BINARY_PHENOTYPE\",\n",
        "            \"INH_BINARY_PHENOTYPE\",\"KAN_BINARY_PHENOTYPE\",\"LEV_BINARY_PHENOTYPE\",\n",
        "            \"LZD_BINARY_PHENOTYPE\",\"MXF_BINARY_PHENOTYPE\",\"RIF_BINARY_PHENOTYPE\",\n",
        "            \"RFB_BINARY_PHENOTYPE\"]\n",
        "\n",
        "    df=copy.copy(Data)\n",
        "\n",
        "    for i in phenotypes:\n",
        "        df[i] = df[i].map(mapping)\n",
        "\n",
        "    # Mode imputation to get rid of NA\n",
        "    Mode_imputation_activator=0\n",
        "\n",
        "    if (Mode_imputation_activator==1):\n",
        "\n",
        "        imp = SimpleImputer(strategy='most_frequent')\n",
        "\n",
        "        df = pd.DataFrame(imp.fit_transform(df), columns=df.columns)\n",
        "\n",
        "    #Making targets integer\n",
        "\n",
        "    # New Abbreviations\n",
        "\n",
        "    df['RIA'] = df.apply(lambda row: logical_or_with_nan(row['RIF_BINARY_PHENOTYPE'], row['RFB_BINARY_PHENOTYPE']), axis=1)\n",
        "    df['AMG'] = df.apply(lambda row: logical_or_with_nan(row['AMI_BINARY_PHENOTYPE'], row['KAN_BINARY_PHENOTYPE']), axis=1)\n",
        "    df[\"mid\"]= df.apply(lambda row: logical_or_with_nan(row['LEV_BINARY_PHENOTYPE'], row['MXF_BINARY_PHENOTYPE']), axis=1)\n",
        "    df[\"FQS\"]= df.apply(lambda row: logical_or_with_nan(row[\"mid\"], row['CFZ_BINARY_PHENOTYPE']), axis=1)\n",
        "    df = df.drop(\"mid\", axis=1)\n",
        "\n",
        "    # Renaming Drugs\n",
        "\n",
        "    df = df.rename(columns={'AMI_BINARY_PHENOTYPE': 'AMI',\n",
        "                            'BDQ_BINARY_PHENOTYPE': 'BDQ',\n",
        "                            'CFZ_BINARY_PHENOTYPE': 'CFZ',\n",
        "                            'DLM_BINARY_PHENOTYPE': 'DLM',\n",
        "                            'EMB_BINARY_PHENOTYPE': 'EMB',\n",
        "                            'ETH_BINARY_PHENOTYPE': 'ETH',\n",
        "                            'INH_BINARY_PHENOTYPE': 'INH',\n",
        "                            'KAN_BINARY_PHENOTYPE': 'KAN',\n",
        "                            'LEV_BINARY_PHENOTYPE': 'LEV',\n",
        "                            'LZD_BINARY_PHENOTYPE': 'LZD',\n",
        "                            'MXF_BINARY_PHENOTYPE': 'MXF',\n",
        "                            'RIF_BINARY_PHENOTYPE': 'RIF',\n",
        "                            'RFB_BINARY_PHENOTYPE': 'RFB'})\n",
        "\n",
        "    #saving the output\n",
        "    df.to_csv('ML_phenotypes.csv', index=False)\n",
        "\n",
        "    #saving the output\n",
        "    phenotypes=['AMI',\n",
        "                'BDQ',\n",
        "                'CFZ',\n",
        "                'DLM',\n",
        "                'EMB',\n",
        "                'ETH',\n",
        "                'INH',\n",
        "                'KAN',\n",
        "                'LEV',\n",
        "                'LZD',\n",
        "                'MXF',\n",
        "                'RIF',\n",
        "                'RFB',\n",
        "                'RIA',\n",
        "                'AMG',\n",
        "                'FQS']\n",
        "\n",
        "\n",
        "    # In case you want to consider the N/A phenotypes in the stats for\n",
        "    # analysis, consider the flag, Na_checker, 1\n",
        "\n",
        "    Na_checker=1\n",
        "\n",
        "    if Na_checker==1 :\n",
        "\n",
        "        columns_to_check = df.columns[3:]\n",
        "\n",
        "        # Calculate the number of NaN values in each column\n",
        "        nan_counts = df[columns_to_check].isna().sum()\n",
        "\n",
        "        # print the results\n",
        "\n",
        "        print(nan_counts)\n",
        "\n",
        "    print(\"Full latex tabular:\")\n",
        "\n",
        "    Latex_report=1\n",
        "    if Latex_report==1 :\n",
        "        columns_to_check = df.columns[3:]\n",
        "        nan_counts = df[columns_to_check].isna().sum()\n",
        "        report_list=[]\n",
        "\n",
        "        counter=0\n",
        "        for i in phenotypes:\n",
        "\n",
        "\n",
        "            report_list.append([i, nan_counts.iloc[counter],df[i].value_counts()[0]\\\n",
        "                                ,df[i].sum(skipna=True),round(100*df[i].\\\n",
        "                                sum(skipna=True)/df[i].value_counts()[0],2) ])\n",
        "            counter=counter+1\n",
        "\n",
        "\n",
        "\n",
        "        # Assuming you have a 2D list called 'data' and a header list called 'headers'\n",
        "\n",
        "        # Create the LaTeX tabular representation\n",
        "        headers=[\"Drug\", \"# Ambiguous\", \"# Susceptible\", \"# Resistant\",\"R/S %\"]\n",
        "\n",
        "        latex_table = tabulate(report_list, headers, tablefmt=\"latex\")\n",
        "\n",
        "        # Print the LaTeX table\n",
        "        print(latex_table)\n",
        "\n"
      ]
    },
    {
      "cell_type": "markdown",
      "metadata": {
        "id": "mtTa7-UA5qx1"
      },
      "source": [
        "## Runing the whole process to get the list of phenotypes for machine learning"
      ]
    },
    {
      "cell_type": "code",
      "execution_count": null,
      "metadata": {
        "id": "bl5a-fu15rCq"
      },
      "outputs": [],
      "source": [
        "if __name__ == '__main__' :\n",
        "    main()"
      ]
    }
  ],
  "metadata": {
    "colab": {
      "provenance": []
    },
    "kernelspec": {
      "display_name": "Python 3",
      "name": "python3"
    },
    "language_info": {
      "name": "python"
    }
  },
  "nbformat": 4,
  "nbformat_minor": 0
}
